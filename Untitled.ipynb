{
 "cells": [
  {
   "cell_type": "code",
   "execution_count": null,
   "id": "5cf242ce",
   "metadata": {},
   "outputs": [],
   "source": []
  },
  {
   "cell_type": "code",
   "execution_count": null,
   "id": "fe6bf519",
   "metadata": {},
   "outputs": [],
   "source": [
    "ssh -L 8080:localhost:8080 akouadio-20@ssh.enst.fr\n",
    "\n",
    "# depuis sa machine en état connecté au réseau de l'école\n",
    "ssh -L 8080:localhost:8088 ubuntu@137.194.211.146\n",
    "\n",
    "# depuis le bridge, remplace -21 par la machine souhaitée\n",
    "ssh -L 8088:localhost:8888 ubuntu@tp-hadoop-21\n",
    "\n",
    "# sur la machine de tp\n",
    "jupyter notebook\n",
    "\n",
    "# sur sa machine\n",
    "firefox http://localhost:8080"
   ]
  }
 ],
 "metadata": {
  "kernelspec": {
   "display_name": "Python 3 (ipykernel)",
   "language": "python",
   "name": "python3"
  },
  "language_info": {
   "codemirror_mode": {
    "name": "ipython",
    "version": 3
   },
   "file_extension": ".py",
   "mimetype": "text/x-python",
   "name": "python",
   "nbconvert_exporter": "python",
   "pygments_lexer": "ipython3",
   "version": "3.9.7"
  }
 },
 "nbformat": 4,
 "nbformat_minor": 5
}
